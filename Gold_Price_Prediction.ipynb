{
  "nbformat": 4,
  "nbformat_minor": 0,
  "metadata": {
    "colab": {
      "provenance": [],
      "include_colab_link": true
    },
    "kernelspec": {
      "name": "python3",
      "display_name": "Python 3"
    },
    "language_info": {
      "name": "python"
    }
  },
  "cells": [
    {
      "cell_type": "markdown",
      "metadata": {
        "id": "view-in-github",
        "colab_type": "text"
      },
      "source": [
        "<a href=\"https://colab.research.google.com/github/edypj/DataPrediction/blob/main/Gold_Price_Prediction.ipynb\" target=\"_parent\"><img src=\"https://colab.research.google.com/assets/colab-badge.svg\" alt=\"Open In Colab\"/></a>"
      ]
    },
    {
      "cell_type": "code",
      "execution_count": null,
      "metadata": {
        "colab": {
          "base_uri": "https://localhost:8080/"
        },
        "id": "NA-o3qmxPhJn",
        "outputId": "2f192568-e0c5-4807-f674-869180e63967"
      },
      "outputs": [
        {
          "output_type": "stream",
          "name": "stdout",
          "text": [
            "     Tanggal  Pembukaan  Tertinggi  Terendah  Terakhir\n",
            "0 2024-03-22    2183.55    2187.95   2164.05    2176.6\n",
            "1 2024-03-21    2190.20    2225.30   2168.20    2184.7\n",
            "2 2024-03-20    2161.40    2192.20   2152.30    2161.0\n",
            "3 2024-03-19    2164.00    2166.30   2150.20    2159.7\n",
            "4 2024-03-18    2159.90    2167.20   2149.20    2164.3\n"
          ]
        },
        {
          "output_type": "stream",
          "name": "stderr",
          "text": [
            "<ipython-input-1-ffbdfe2a261d>:18: FutureWarning: The default value of regex will change from True to False in a future version. In addition, single character regular expressions will *not* be treated as literal strings when regex=True.\n",
            "  df[col] = df[col].str.replace('.', '').str.replace(',', '.').astype(float)\n"
          ]
        }
      ],
      "source": [
        "# Import library yang diperlukan\n",
        "import pandas as pd\n",
        "from sklearn.model_selection import train_test_split\n",
        "from sklearn.linear_model import LinearRegression\n",
        "from sklearn.metrics import mean_squared_error\n",
        "\n",
        "# Membaca data dari file CSV\n",
        "data = pd.read_csv(\"/content/HargaEmas.csv\")\n",
        "\n",
        "df = pd.DataFrame(data)\n",
        "\n",
        "# Ubah format tanggal menjadi tipe data datetime\n",
        "df['Tanggal'] = pd.to_datetime(df['Tanggal'], format='%d/%m/%Y')\n",
        "\n",
        "# Ubah format angka yang menggunakan koma menjadi format numerik\n",
        "columns = ['Pembukaan', 'Tertinggi', 'Terendah', 'Terakhir']\n",
        "for col in columns:\n",
        "    df[col] = df[col].str.replace('.', '').str.replace(',', '.').astype(float)\n",
        "\n",
        "# Menampilkan lima baris pertama dari DataFrame untuk memastikan data terbaca dengan benar\n",
        "print(df.head())\n",
        "\n",
        "# Siapkan fitur dan target\n",
        "X = df[['Pembukaan', 'Tertinggi', 'Terendah']]  # Fitur\n",
        "y = df['Terakhir']  # Target\n",
        "\n",
        "# Bagi data menjadi data latih dan data uji\n",
        "X_train, X_test, y_train, y_test = train_test_split(X, y, test_size=0.2, random_state=42)"
      ]
    },
    {
      "cell_type": "code",
      "source": [
        "# Latih model multivariate regression\n",
        "model = LinearRegression()\n",
        "model.fit(X_train, y_train)\n",
        "\n",
        "# Lakukan prediksi pada data uji\n",
        "y_pred = model.predict(X_test)"
      ],
      "metadata": {
        "id": "d6ravuCmC0r8"
      },
      "execution_count": null,
      "outputs": []
    },
    {
      "cell_type": "code",
      "source": [
        "# Menampilkan koefisien regresi dan intersep\n",
        "print(\"Regressor Coefficients:\", model.coef_)\n",
        "print(\"Intercept:\", model.intercept_)\n",
        "\n",
        "# Menampilkan hasil prediksi\n",
        "prediction_result = pd.DataFrame({'Actual': y_test, 'Predicted': y_pred})\n",
        "print(prediction_result)\n",
        "\n",
        "# Evaluasi kinerja model\n",
        "mse = mean_squared_error(y_test, y_pred)\n",
        "print(\"Mean Squared Error:\", mse)"
      ],
      "metadata": {
        "colab": {
          "base_uri": "https://localhost:8080/"
        },
        "id": "4ZIxytP-C56g",
        "outputId": "c4a3514d-a840-4627-ce75-7a739badc2df"
      },
      "execution_count": null,
      "outputs": [
        {
          "output_type": "stream",
          "name": "stdout",
          "text": [
            "Regressor Coefficients: [-0.55548848  0.74880529  0.80657843]\n",
            "Intercept: 1.023001241086149\n",
            "      Actual    Predicted\n",
            "135   1946.2  1947.173219\n",
            "478   1848.4  1850.620556\n",
            "1193  1508.5  1506.604171\n",
            "566   1829.7  1823.133761\n",
            "626   1789.4  1791.912707\n",
            "...      ...          ...\n",
            "218   1963.1  1967.299163\n",
            "887   1879.2  1879.891837\n",
            "286   1850.5  1853.960709\n",
            "1574  1305.2  1309.767921\n",
            "1317  1316.1  1322.931805\n",
            "\n",
            "[324 rows x 2 columns]\n",
            "Mean Squared Error: 39.711604125917134\n"
          ]
        }
      ]
    },
    {
      "cell_type": "code",
      "source": [
        "import matplotlib.pyplot as plt\n",
        "\n",
        "# Menampilkan hasil prediksi\n",
        "plt.figure(figsize=(10, 6))\n",
        "plt.scatter(y_test, y_pred, color='blue', label='Actual vs Predicted')\n",
        "plt.plot([y_test.min(), y_test.max()], [y_test.min(), y_test.max()], 'k--', lw=3, color='red') # Garis diagonal untuk perbandingan\n",
        "plt.xlabel('Actual')\n",
        "plt.ylabel('Predicted')\n",
        "plt.title('Actual vs Predicted')\n",
        "plt.legend()\n",
        "plt.show()"
      ],
      "metadata": {
        "colab": {
          "base_uri": "https://localhost:8080/",
          "height": 620
        },
        "id": "NykhoGvBDnMI",
        "outputId": "dc562960-2bef-4692-d0e5-c2806a4ae171"
      },
      "execution_count": null,
      "outputs": [
        {
          "output_type": "stream",
          "name": "stderr",
          "text": [
            "<ipython-input-4-2d8902e3694d>:6: UserWarning: color is redundantly defined by the 'color' keyword argument and the fmt string \"k--\" (-> color='k'). The keyword argument will take precedence.\n",
            "  plt.plot([y_test.min(), y_test.max()], [y_test.min(), y_test.max()], 'k--', lw=3, color='red') # Garis diagonal untuk perbandingan\n"
          ]
        },
        {
          "output_type": "display_data",
          "data": {
            "text/plain": [
              "<Figure size 1000x600 with 1 Axes>"
            ],
            "image/png": "[encoded data removed]"
          },
          "metadata": {}
        }
      ]
    },
    {
      "cell_type": "code",
      "source": [
        "from sklearn.metrics import r2_score\n",
        "\n",
        "# Hitung R-squared\n",
        "r_squared = r2_score(y_test, y_pred)\n",
        "print(\"R-squared:\", r_squared)"
      ],
      "metadata": {
        "colab": {
          "base_uri": "https://localhost:8080/"
        },
        "id": "mnLQ-M5zGHaZ",
        "outputId": "080dec85-04a8-40af-c99c-b3113f7e6d29"
      },
      "execution_count": null,
      "outputs": [
        {
          "output_type": "stream",
          "name": "stdout",
          "text": [
            "R-squared: 0.9993827280107783\n"
          ]
        }
      ]
    },
    {
      "cell_type": "code",
      "source": [
        "# Data tunggal\n",
        "single_data = {\n",
        "    'Tanggal': '24/03/2024',\n",
        "    'Pembukaan': 2100.55,\n",
        "    'Tertinggi': 2187.95,\n",
        "    'Terendah': 2164.05\n",
        "}\n",
        "\n",
        "# Ubah data tunggal ke dalam DataFrame\n",
        "single_df = pd.DataFrame(single_data, index=[0])\n",
        "\n",
        "# Lakukan praproses data jika diperlukan\n",
        "single_df['Tanggal'] = pd.to_datetime(single_df['Tanggal'], format='%d/%m/%Y')\n",
        "\n",
        "# Ubah format angka jika diperlukan\n",
        "single_df['Pembukaan'] = single_df['Pembukaan'].astype(float)\n",
        "single_df['Tertinggi'] = single_df['Tertinggi'].astype(float)\n",
        "single_df['Terendah'] = single_df['Terendah'].astype(float)\n",
        "\n",
        "# Siapkan fitur untuk prediksi\n",
        "X_single = single_df[['Pembukaan', 'Tertinggi', 'Terendah']]\n",
        "\n",
        "# Lakukan prediksi harga terakhir menggunakan model regressor yang sudah dilatih\n",
        "predicted_last_price = model.predict(X_single)\n",
        "\n",
        "# Tampilkan hasil prediksi\n",
        "print(\"Predicted Last Price for\", single_data['Tanggal'], \":\", predicted_last_price[0])"
      ],
      "metadata": {
        "colab": {
          "base_uri": "https://localhost:8080/"
        },
        "id": "o6sFJ6g-SsKW",
        "outputId": "d38fdf2a-fbad-4a63-9a0c-3916f5c47a2b"
      },
      "execution_count": null,
      "outputs": [
        {
          "output_type": "stream",
          "name": "stdout",
          "text": [
            "Predicted Last Price for 24/03/2024 : 2218.0162527740854\n"
          ]
        }
      ]
    },
    {
      "cell_type": "code",
      "source": [
        "# Data untuk tanggal yang ingin diprediksi\n",
        "new_dates = pd.to_datetime(['2024-03-23', '2024-03-24', '2024-03-25'])\n",
        "\n",
        "# Siapkan data pembukaan, tertinggi, dan terendah untuk tanggal-tanggal tersebut\n",
        "new_data = pd.DataFrame({\n",
        "    'Tanggal': new_dates,\n",
        "    'Pembukaan': [2195.0, 2299.0, 2180.0],\n",
        "    'Tertinggi': [2220.0, 2235.0, 2200.0],\n",
        "    'Terendah': [2180.0, 2200.0, 2160.0]\n",
        "})\n",
        "\n",
        "# Lakukan prediksi menggunakan model regressor yang sudah dilatih\n",
        "predicted_prices = model.predict(new_data[['Pembukaan', 'Tertinggi', 'Terendah']])\n",
        "\n",
        "# Tampilkan hasil prediksi\n",
        "for i in range(len(new_dates)):\n",
        "    print(f\"Date: {new_dates[i].strftime('%Y-%m-%d')} -> Predicted Price: {predicted_prices[i]}\")\n"
      ],
      "metadata": {
        "colab": {
          "base_uri": "https://localhost:8080/"
        },
        "id": "_ni4uJczFUhc",
        "outputId": "de561df0-3d87-47c5-db0a-968bb473dd7a"
      },
      "execution_count": null,
      "outputs": [
        {
          "output_type": "stream",
          "name": "stdout",
          "text": [
            "Date: 2024-03-23 -> Predicted Price: 2202.414501193543\n",
            "Date: 2024-03-24 -> Predicted Price: 2172.0073469933286\n",
            "Date: 2024-03-25 -> Predicted Price: 2179.6391540558366\n"
          ]
        }
      ]
    }
  ]
}